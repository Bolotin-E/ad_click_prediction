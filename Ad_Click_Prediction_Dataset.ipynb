{
 "cells": [
  {
   "cell_type": "markdown",
   "metadata": {},
   "source": [
    "<h4>About</h4>\n",
    "\n",
    "This dataset provides insights into user behavior and online advertising, specifically focusing on predicting whether a user will click on an online advertisement. It contains user demographic information, browsing habits, and details related to the display of the advertisement. This dataset is ideal for building binary classification models to predict user interactions with online ads.\n",
    "\n",
    "\n",
    "<h4>Features</h4>\n",
    "\n",
    "<b>id:</b> Unique identifier for each user.\n",
    "\n",
    "<b>full_name:</b> User's name formatted as \"UserX\" for anonymity.\n",
    "\n",
    "<b>age:</b> Age of the user (ranging from 18 to 64 years).\n",
    "\n",
    "<b>gender:</b> The gender of the user (categorized as Male, Female, or Non-Binary).\n",
    "\n",
    "<b>device_type:</b> The type of device used by the user when viewing the ad (Mobile, Desktop, Tablet).\n",
    "\n",
    "<b>ad_position:</b> The position of the ad on the webpage (Top, Side, Bottom).\n",
    "\n",
    "<b>browsing_history:</b> The user's browsing activity prior to seeing the ad (Shopping, News, Entertainment, Education, Social Media).\n",
    "\n",
    "<b>time_of_day:</b> The time when the user viewed the ad (Morning, Afternoon, Evening, Night).\n",
    "\n",
    "<b>click:</b> The target label indicating whether the user clicked on the ad (1 for a click, 0 for no click).\n",
    "\n",
    "<h4>Goal</h4>\n",
    "\n",
    "The objective of this dataset is to predict whether a user will click on an online ad based on their demographics, browsing behavior, the context of the ad's display, and the time of day. \n",
    "You will need to clean the data, understand it and then apply machine learning models to predict and evaluate data. It is a really challenging request for this kind of data. This data can be used to improve ad targeting strategies, optimize ad placement, and better understand user interaction with online advertisements."
   ]
  },
  {
   "cell_type": "code",
   "execution_count": 1,
   "metadata": {},
   "outputs": [],
   "source": [
    "import pandas as pd\n",
    "import numpy as np\n",
    "import xgboost as xgb\n",
    "\n",
    "from sklearn.metrics import accuracy_score\n",
    "from sklearn.preprocessing import LabelEncoder\n",
    "import tensorflow as tf"
   ]
  },
  {
   "cell_type": "code",
   "execution_count": 2,
   "metadata": {},
   "outputs": [
    {
     "data": {
      "application/vnd.microsoft.datawrangler.viewer.v0+json": {
       "columns": [
        {
         "name": "index",
         "rawType": "int64",
         "type": "integer"
        },
        {
         "name": "id",
         "rawType": "int64",
         "type": "integer"
        },
        {
         "name": "full_name",
         "rawType": "object",
         "type": "string"
        },
        {
         "name": "age",
         "rawType": "float64",
         "type": "float"
        },
        {
         "name": "gender",
         "rawType": "object",
         "type": "unknown"
        },
        {
         "name": "device_type",
         "rawType": "object",
         "type": "unknown"
        },
        {
         "name": "ad_position",
         "rawType": "object",
         "type": "unknown"
        },
        {
         "name": "browsing_history",
         "rawType": "object",
         "type": "unknown"
        },
        {
         "name": "time_of_day",
         "rawType": "object",
         "type": "unknown"
        },
        {
         "name": "click",
         "rawType": "int64",
         "type": "integer"
        }
       ],
       "ref": "8ce89573-fbed-488a-a79a-6dba577b3c3a",
       "rows": [
        [
         "0",
         "670",
         "User670",
         "22.0",
         null,
         "Desktop",
         "Top",
         "Shopping",
         "Afternoon",
         "1"
        ],
        [
         "1",
         "3044",
         "User3044",
         null,
         "Male",
         "Desktop",
         "Top",
         null,
         null,
         "1"
        ],
        [
         "2",
         "5912",
         "User5912",
         "41.0",
         "Non-Binary",
         null,
         "Side",
         "Education",
         "Night",
         "1"
        ],
        [
         "3",
         "5418",
         "User5418",
         "34.0",
         "Male",
         null,
         null,
         "Entertainment",
         "Evening",
         "1"
        ],
        [
         "4",
         "9452",
         "User9452",
         "39.0",
         "Non-Binary",
         null,
         null,
         "Social Media",
         "Morning",
         "0"
        ]
       ],
       "shape": {
        "columns": 9,
        "rows": 5
       }
      },
      "text/html": [
       "<div>\n",
       "<style scoped>\n",
       "    .dataframe tbody tr th:only-of-type {\n",
       "        vertical-align: middle;\n",
       "    }\n",
       "\n",
       "    .dataframe tbody tr th {\n",
       "        vertical-align: top;\n",
       "    }\n",
       "\n",
       "    .dataframe thead th {\n",
       "        text-align: right;\n",
       "    }\n",
       "</style>\n",
       "<table border=\"1\" class=\"dataframe\">\n",
       "  <thead>\n",
       "    <tr style=\"text-align: right;\">\n",
       "      <th></th>\n",
       "      <th>id</th>\n",
       "      <th>full_name</th>\n",
       "      <th>age</th>\n",
       "      <th>gender</th>\n",
       "      <th>device_type</th>\n",
       "      <th>ad_position</th>\n",
       "      <th>browsing_history</th>\n",
       "      <th>time_of_day</th>\n",
       "      <th>click</th>\n",
       "    </tr>\n",
       "  </thead>\n",
       "  <tbody>\n",
       "    <tr>\n",
       "      <th>0</th>\n",
       "      <td>670</td>\n",
       "      <td>User670</td>\n",
       "      <td>22.0</td>\n",
       "      <td>NaN</td>\n",
       "      <td>Desktop</td>\n",
       "      <td>Top</td>\n",
       "      <td>Shopping</td>\n",
       "      <td>Afternoon</td>\n",
       "      <td>1</td>\n",
       "    </tr>\n",
       "    <tr>\n",
       "      <th>1</th>\n",
       "      <td>3044</td>\n",
       "      <td>User3044</td>\n",
       "      <td>NaN</td>\n",
       "      <td>Male</td>\n",
       "      <td>Desktop</td>\n",
       "      <td>Top</td>\n",
       "      <td>NaN</td>\n",
       "      <td>NaN</td>\n",
       "      <td>1</td>\n",
       "    </tr>\n",
       "    <tr>\n",
       "      <th>2</th>\n",
       "      <td>5912</td>\n",
       "      <td>User5912</td>\n",
       "      <td>41.0</td>\n",
       "      <td>Non-Binary</td>\n",
       "      <td>NaN</td>\n",
       "      <td>Side</td>\n",
       "      <td>Education</td>\n",
       "      <td>Night</td>\n",
       "      <td>1</td>\n",
       "    </tr>\n",
       "    <tr>\n",
       "      <th>3</th>\n",
       "      <td>5418</td>\n",
       "      <td>User5418</td>\n",
       "      <td>34.0</td>\n",
       "      <td>Male</td>\n",
       "      <td>NaN</td>\n",
       "      <td>NaN</td>\n",
       "      <td>Entertainment</td>\n",
       "      <td>Evening</td>\n",
       "      <td>1</td>\n",
       "    </tr>\n",
       "    <tr>\n",
       "      <th>4</th>\n",
       "      <td>9452</td>\n",
       "      <td>User9452</td>\n",
       "      <td>39.0</td>\n",
       "      <td>Non-Binary</td>\n",
       "      <td>NaN</td>\n",
       "      <td>NaN</td>\n",
       "      <td>Social Media</td>\n",
       "      <td>Morning</td>\n",
       "      <td>0</td>\n",
       "    </tr>\n",
       "  </tbody>\n",
       "</table>\n",
       "</div>"
      ],
      "text/plain": [
       "     id full_name   age      gender device_type ad_position browsing_history  \\\n",
       "0   670   User670  22.0         NaN     Desktop         Top         Shopping   \n",
       "1  3044  User3044   NaN        Male     Desktop         Top              NaN   \n",
       "2  5912  User5912  41.0  Non-Binary         NaN        Side        Education   \n",
       "3  5418  User5418  34.0        Male         NaN         NaN    Entertainment   \n",
       "4  9452  User9452  39.0  Non-Binary         NaN         NaN     Social Media   \n",
       "\n",
       "  time_of_day  click  \n",
       "0   Afternoon      1  \n",
       "1         NaN      1  \n",
       "2       Night      1  \n",
       "3     Evening      1  \n",
       "4     Morning      0  "
      ]
     },
     "execution_count": 2,
     "metadata": {},
     "output_type": "execute_result"
    }
   ],
   "source": [
    "# Load the data\n",
    "df = pd.read_csv('ad_click_dataset.csv')\n",
    "\n",
    "# Inspect the data\n",
    "df.head()"
   ]
  },
  {
   "cell_type": "code",
   "execution_count": 3,
   "metadata": {},
   "outputs": [
    {
     "data": {
      "text/plain": [
       "(     id   age      gender device_type ad_position browsing_history  \\\n",
       " 0   670  22.0      Female     Desktop         Top         Shopping   \n",
       " 1  3044  39.5        Male     Desktop         Top    Entertainment   \n",
       " 2  5912  41.0  Non-Binary     Desktop        Side        Education   \n",
       " 3  5418  34.0        Male     Desktop      Bottom    Entertainment   \n",
       " 4  9452  39.0  Non-Binary     Desktop      Bottom     Social Media   \n",
       " \n",
       "   time_of_day  click  \n",
       " 0   Afternoon      1  \n",
       " 1     Morning      1  \n",
       " 2       Night      1  \n",
       " 3     Evening      1  \n",
       " 4     Morning      0  ,\n",
       " id                  0\n",
       " age                 0\n",
       " gender              0\n",
       " device_type         0\n",
       " ad_position         0\n",
       " browsing_history    0\n",
       " time_of_day         0\n",
       " click               0\n",
       " dtype: int64)"
      ]
     },
     "execution_count": 3,
     "metadata": {},
     "output_type": "execute_result"
    }
   ],
   "source": [
    "# Drop the 'full_name' column as it's not useful for prediction\n",
    "df_cleaned = df.drop(columns=['full_name'])\n",
    "\n",
    "# Handle missing values\n",
    "# Impute 'age' with median\n",
    "df_cleaned['age'] = df_cleaned['age'].fillna(df_cleaned['age'].median())\n",
    "\n",
    "# Impute 'gender', 'device_type', 'ad_position', 'browsing_history', 'time_of_day' with their mode\n",
    "for column in ['gender', 'device_type', 'ad_position', 'browsing_history', 'time_of_day']:\n",
    "    df_cleaned[column] = df_cleaned[column].fillna(df_cleaned[column].mode()[0])\n",
    "\n",
    "# Check if the missing values are handled\n",
    "missing_values_after = df_cleaned.isnull().sum()\n",
    "\n",
    "df_cleaned.head(), missing_values_after\n"
   ]
  },
  {
   "cell_type": "code",
   "execution_count": 4,
   "metadata": {},
   "outputs": [
    {
     "name": "stdout",
     "output_type": "stream",
     "text": [
      "id                  0\n",
      "age                 0\n",
      "gender              0\n",
      "device_type         0\n",
      "ad_position         0\n",
      "browsing_history    0\n",
      "time_of_day         0\n",
      "click               0\n",
      "dtype: int64\n"
     ]
    }
   ],
   "source": [
    "print(df_cleaned.isnull().sum())"
   ]
  },
  {
   "cell_type": "code",
   "execution_count": 5,
   "metadata": {},
   "outputs": [],
   "source": [
    "# Save the cleaned data to a new CSV file\n",
    "df_cleaned.to_csv('cleaned_ad_click_dataset.csv', index=False)"
   ]
  },
  {
   "cell_type": "code",
   "execution_count": 6,
   "metadata": {},
   "outputs": [],
   "source": [
    "target = df_cleaned.click\n",
    "inputs = df_cleaned.drop('click', axis='columns')"
   ]
  },
  {
   "cell_type": "code",
   "execution_count": 7,
   "metadata": {},
   "outputs": [
    {
     "data": {
      "application/vnd.microsoft.datawrangler.viewer.v0+json": {
       "columns": [
        {
         "name": "index",
         "rawType": "int64",
         "type": "integer"
        },
        {
         "name": "id",
         "rawType": "int64",
         "type": "integer"
        },
        {
         "name": "age",
         "rawType": "float64",
         "type": "float"
        },
        {
         "name": "gender",
         "rawType": "object",
         "type": "string"
        },
        {
         "name": "device_type",
         "rawType": "object",
         "type": "string"
        },
        {
         "name": "ad_position",
         "rawType": "object",
         "type": "string"
        },
        {
         "name": "browsing_history",
         "rawType": "object",
         "type": "string"
        },
        {
         "name": "time_of_day",
         "rawType": "object",
         "type": "string"
        }
       ],
       "ref": "50ae86f5-3564-4f15-b105-946ddc342272",
       "rows": [
        [
         "0",
         "670",
         "22.0",
         "Female",
         "Desktop",
         "Top",
         "Shopping",
         "Afternoon"
        ],
        [
         "1",
         "3044",
         "39.5",
         "Male",
         "Desktop",
         "Top",
         "Entertainment",
         "Morning"
        ],
        [
         "2",
         "5912",
         "41.0",
         "Non-Binary",
         "Desktop",
         "Side",
         "Education",
         "Night"
        ],
        [
         "3",
         "5418",
         "34.0",
         "Male",
         "Desktop",
         "Bottom",
         "Entertainment",
         "Evening"
        ],
        [
         "4",
         "9452",
         "39.0",
         "Non-Binary",
         "Desktop",
         "Bottom",
         "Social Media",
         "Morning"
        ],
        [
         "5",
         "5942",
         "39.5",
         "Non-Binary",
         "Desktop",
         "Bottom",
         "Social Media",
         "Evening"
        ],
        [
         "6",
         "7808",
         "26.0",
         "Female",
         "Desktop",
         "Top",
         "Entertainment",
         "Morning"
        ],
        [
         "7",
         "5065",
         "40.0",
         "Male",
         "Mobile",
         "Side",
         "Entertainment",
         "Evening"
        ],
        [
         "8",
         "7993",
         "39.5",
         "Non-Binary",
         "Mobile",
         "Bottom",
         "Social Media",
         "Morning"
        ],
        [
         "9",
         "4509",
         "39.5",
         "Female",
         "Desktop",
         "Bottom",
         "Education",
         "Afternoon"
        ],
        [
         "10",
         "2595",
         "39.5",
         "Female",
         "Desktop",
         "Bottom",
         "Entertainment",
         "Morning"
        ],
        [
         "11",
         "7466",
         "47.0",
         "Female",
         "Mobile",
         "Bottom",
         "Entertainment",
         "Afternoon"
        ],
        [
         "12",
         "8171",
         "39.5",
         "Non-Binary",
         "Mobile",
         "Side",
         "Education",
         "Afternoon"
        ],
        [
         "13",
         "2023",
         "19.0",
         "Female",
         "Desktop",
         "Bottom",
         "Entertainment",
         "Morning"
        ],
        [
         "14",
         "973",
         "39.5",
         "Female",
         "Mobile",
         "Bottom",
         "Entertainment",
         "Morning"
        ],
        [
         "15",
         "7529",
         "39.5",
         "Female",
         "Desktop",
         "Top",
         "Entertainment",
         "Afternoon"
        ],
        [
         "16",
         "8127",
         "39.5",
         "Male",
         "Tablet",
         "Bottom",
         "Entertainment",
         "Morning"
        ],
        [
         "17",
         "188",
         "56.0",
         "Female",
         "Tablet",
         "Bottom",
         "News",
         "Morning"
        ],
        [
         "18",
         "2124",
         "39.5",
         "Male",
         "Desktop",
         "Top",
         "Entertainment",
         "Evening"
        ],
        [
         "19",
         "7335",
         "24.0",
         "Female",
         "Tablet",
         "Side",
         "Entertainment",
         "Night"
        ],
        [
         "20",
         "5569",
         "39.5",
         "Female",
         "Mobile",
         "Bottom",
         "Entertainment",
         "Afternoon"
        ],
        [
         "21",
         "2272",
         "52.0",
         "Female",
         "Tablet",
         "Bottom",
         "News",
         "Morning"
        ],
        [
         "22",
         "2722",
         "39.0",
         "Female",
         "Desktop",
         "Top",
         "Entertainment",
         "Morning"
        ],
        [
         "23",
         "316",
         "42.0",
         "Female",
         "Desktop",
         "Top",
         "Entertainment",
         "Night"
        ],
        [
         "24",
         "9789",
         "36.0",
         "Female",
         "Tablet",
         "Bottom",
         "Entertainment",
         "Morning"
        ],
        [
         "25",
         "4890",
         "43.0",
         "Male",
         "Tablet",
         "Bottom",
         "Education",
         "Afternoon"
        ],
        [
         "26",
         "4994",
         "62.0",
         "Female",
         "Mobile",
         "Bottom",
         "Entertainment",
         "Night"
        ],
        [
         "27",
         "5055",
         "45.0",
         "Male",
         "Desktop",
         "Bottom",
         "Education",
         "Morning"
        ],
        [
         "28",
         "6724",
         "37.0",
         "Female",
         "Desktop",
         "Top",
         "Entertainment",
         "Evening"
        ],
        [
         "29",
         "8253",
         "39.5",
         "Non-Binary",
         "Desktop",
         "Bottom",
         "Entertainment",
         "Morning"
        ],
        [
         "30",
         "4945",
         "31.0",
         "Female",
         "Tablet",
         "Top",
         "Entertainment",
         "Morning"
        ],
        [
         "31",
         "1729",
         "26.0",
         "Female",
         "Mobile",
         "Top",
         "Entertainment",
         "Afternoon"
        ],
        [
         "32",
         "6862",
         "39.5",
         "Male",
         "Tablet",
         "Side",
         "Entertainment",
         "Morning"
        ],
        [
         "33",
         "4985",
         "37.0",
         "Male",
         "Mobile",
         "Top",
         "News",
         "Evening"
        ],
        [
         "34",
         "7361",
         "39.5",
         "Female",
         "Mobile",
         "Top",
         "Entertainment",
         "Afternoon"
        ],
        [
         "35",
         "1524",
         "24.0",
         "Female",
         "Mobile",
         "Bottom",
         "Entertainment",
         "Night"
        ],
        [
         "36",
         "2542",
         "58.0",
         "Non-Binary",
         "Mobile",
         "Side",
         "Entertainment",
         "Evening"
        ],
        [
         "37",
         "119",
         "59.0",
         "Female",
         "Tablet",
         "Top",
         "Entertainment",
         "Morning"
        ],
        [
         "38",
         "5881",
         "26.0",
         "Non-Binary",
         "Tablet",
         "Top",
         "Entertainment",
         "Morning"
        ],
        [
         "39",
         "9642",
         "39.5",
         "Non-Binary",
         "Desktop",
         "Bottom",
         "Entertainment",
         "Evening"
        ],
        [
         "40",
         "1171",
         "39.5",
         "Female",
         "Mobile",
         "Bottom",
         "Entertainment",
         "Night"
        ],
        [
         "41",
         "1612",
         "40.0",
         "Female",
         "Mobile",
         "Bottom",
         "News",
         "Morning"
        ],
        [
         "42",
         "9586",
         "39.5",
         "Female",
         "Desktop",
         "Bottom",
         "Shopping",
         "Afternoon"
        ],
        [
         "43",
         "7661",
         "48.0",
         "Female",
         "Mobile",
         "Side",
         "News",
         "Night"
        ],
        [
         "44",
         "4228",
         "39.5",
         "Female",
         "Desktop",
         "Side",
         "Entertainment",
         "Morning"
        ],
        [
         "45",
         "5574",
         "52.0",
         "Female",
         "Desktop",
         "Bottom",
         "Entertainment",
         "Afternoon"
        ],
        [
         "46",
         "120",
         "39.5",
         "Female",
         "Desktop",
         "Side",
         "Entertainment",
         "Night"
        ],
        [
         "47",
         "6143",
         "39.5",
         "Female",
         "Desktop",
         "Bottom",
         "Entertainment",
         "Afternoon"
        ],
        [
         "48",
         "301",
         "39.5",
         "Male",
         "Tablet",
         "Side",
         "Social Media",
         "Morning"
        ],
        [
         "49",
         "5301",
         "39.5",
         "Male",
         "Desktop",
         "Side",
         "Social Media",
         "Morning"
        ]
       ],
       "shape": {
        "columns": 7,
        "rows": 10000
       }
      },
      "text/html": [
       "<div>\n",
       "<style scoped>\n",
       "    .dataframe tbody tr th:only-of-type {\n",
       "        vertical-align: middle;\n",
       "    }\n",
       "\n",
       "    .dataframe tbody tr th {\n",
       "        vertical-align: top;\n",
       "    }\n",
       "\n",
       "    .dataframe thead th {\n",
       "        text-align: right;\n",
       "    }\n",
       "</style>\n",
       "<table border=\"1\" class=\"dataframe\">\n",
       "  <thead>\n",
       "    <tr style=\"text-align: right;\">\n",
       "      <th></th>\n",
       "      <th>id</th>\n",
       "      <th>age</th>\n",
       "      <th>gender</th>\n",
       "      <th>device_type</th>\n",
       "      <th>ad_position</th>\n",
       "      <th>browsing_history</th>\n",
       "      <th>time_of_day</th>\n",
       "    </tr>\n",
       "  </thead>\n",
       "  <tbody>\n",
       "    <tr>\n",
       "      <th>0</th>\n",
       "      <td>670</td>\n",
       "      <td>22.0</td>\n",
       "      <td>Female</td>\n",
       "      <td>Desktop</td>\n",
       "      <td>Top</td>\n",
       "      <td>Shopping</td>\n",
       "      <td>Afternoon</td>\n",
       "    </tr>\n",
       "    <tr>\n",
       "      <th>1</th>\n",
       "      <td>3044</td>\n",
       "      <td>39.5</td>\n",
       "      <td>Male</td>\n",
       "      <td>Desktop</td>\n",
       "      <td>Top</td>\n",
       "      <td>Entertainment</td>\n",
       "      <td>Morning</td>\n",
       "    </tr>\n",
       "    <tr>\n",
       "      <th>2</th>\n",
       "      <td>5912</td>\n",
       "      <td>41.0</td>\n",
       "      <td>Non-Binary</td>\n",
       "      <td>Desktop</td>\n",
       "      <td>Side</td>\n",
       "      <td>Education</td>\n",
       "      <td>Night</td>\n",
       "    </tr>\n",
       "    <tr>\n",
       "      <th>3</th>\n",
       "      <td>5418</td>\n",
       "      <td>34.0</td>\n",
       "      <td>Male</td>\n",
       "      <td>Desktop</td>\n",
       "      <td>Bottom</td>\n",
       "      <td>Entertainment</td>\n",
       "      <td>Evening</td>\n",
       "    </tr>\n",
       "    <tr>\n",
       "      <th>4</th>\n",
       "      <td>9452</td>\n",
       "      <td>39.0</td>\n",
       "      <td>Non-Binary</td>\n",
       "      <td>Desktop</td>\n",
       "      <td>Bottom</td>\n",
       "      <td>Social Media</td>\n",
       "      <td>Morning</td>\n",
       "    </tr>\n",
       "    <tr>\n",
       "      <th>...</th>\n",
       "      <td>...</td>\n",
       "      <td>...</td>\n",
       "      <td>...</td>\n",
       "      <td>...</td>\n",
       "      <td>...</td>\n",
       "      <td>...</td>\n",
       "      <td>...</td>\n",
       "    </tr>\n",
       "    <tr>\n",
       "      <th>9995</th>\n",
       "      <td>8510</td>\n",
       "      <td>39.5</td>\n",
       "      <td>Female</td>\n",
       "      <td>Mobile</td>\n",
       "      <td>Top</td>\n",
       "      <td>Education</td>\n",
       "      <td>Morning</td>\n",
       "    </tr>\n",
       "    <tr>\n",
       "      <th>9996</th>\n",
       "      <td>7843</td>\n",
       "      <td>39.5</td>\n",
       "      <td>Female</td>\n",
       "      <td>Desktop</td>\n",
       "      <td>Bottom</td>\n",
       "      <td>Entertainment</td>\n",
       "      <td>Morning</td>\n",
       "    </tr>\n",
       "    <tr>\n",
       "      <th>9997</th>\n",
       "      <td>3914</td>\n",
       "      <td>39.5</td>\n",
       "      <td>Male</td>\n",
       "      <td>Mobile</td>\n",
       "      <td>Side</td>\n",
       "      <td>Entertainment</td>\n",
       "      <td>Morning</td>\n",
       "    </tr>\n",
       "    <tr>\n",
       "      <th>9998</th>\n",
       "      <td>7924</td>\n",
       "      <td>39.5</td>\n",
       "      <td>Female</td>\n",
       "      <td>Desktop</td>\n",
       "      <td>Bottom</td>\n",
       "      <td>Shopping</td>\n",
       "      <td>Morning</td>\n",
       "    </tr>\n",
       "    <tr>\n",
       "      <th>9999</th>\n",
       "      <td>3056</td>\n",
       "      <td>44.0</td>\n",
       "      <td>Male</td>\n",
       "      <td>Tablet</td>\n",
       "      <td>Top</td>\n",
       "      <td>Social Media</td>\n",
       "      <td>Morning</td>\n",
       "    </tr>\n",
       "  </tbody>\n",
       "</table>\n",
       "<p>10000 rows × 7 columns</p>\n",
       "</div>"
      ],
      "text/plain": [
       "        id   age      gender device_type ad_position browsing_history  \\\n",
       "0      670  22.0      Female     Desktop         Top         Shopping   \n",
       "1     3044  39.5        Male     Desktop         Top    Entertainment   \n",
       "2     5912  41.0  Non-Binary     Desktop        Side        Education   \n",
       "3     5418  34.0        Male     Desktop      Bottom    Entertainment   \n",
       "4     9452  39.0  Non-Binary     Desktop      Bottom     Social Media   \n",
       "...    ...   ...         ...         ...         ...              ...   \n",
       "9995  8510  39.5      Female      Mobile         Top        Education   \n",
       "9996  7843  39.5      Female     Desktop      Bottom    Entertainment   \n",
       "9997  3914  39.5        Male      Mobile        Side    Entertainment   \n",
       "9998  7924  39.5      Female     Desktop      Bottom         Shopping   \n",
       "9999  3056  44.0        Male      Tablet         Top     Social Media   \n",
       "\n",
       "     time_of_day  \n",
       "0      Afternoon  \n",
       "1        Morning  \n",
       "2          Night  \n",
       "3        Evening  \n",
       "4        Morning  \n",
       "...          ...  \n",
       "9995     Morning  \n",
       "9996     Morning  \n",
       "9997     Morning  \n",
       "9998     Morning  \n",
       "9999     Morning  \n",
       "\n",
       "[10000 rows x 7 columns]"
      ]
     },
     "execution_count": 7,
     "metadata": {},
     "output_type": "execute_result"
    }
   ],
   "source": [
    "inputs"
   ]
  },
  {
   "cell_type": "code",
   "execution_count": 8,
   "metadata": {},
   "outputs": [],
   "source": [
    "from sklearn.model_selection import train_test_split\n",
    "X_train, X_test, y_train, y_test = train_test_split(inputs, target, test_size=0.2)"
   ]
  },
  {
   "cell_type": "code",
   "execution_count": 9,
   "metadata": {},
   "outputs": [
    {
     "name": "stdout",
     "output_type": "stream",
     "text": [
      "0\n",
      "0\n"
     ]
    }
   ],
   "source": [
    "print(np.isnan(y_train).sum())\n",
    "print(np.isnan(y_test).sum())"
   ]
  },
  {
   "cell_type": "code",
   "execution_count": 10,
   "metadata": {},
   "outputs": [],
   "source": [
    "X_train = X_train[~pd.isna(y_train)]\n",
    "y_train = y_train[~pd.isna(y_train)]\n",
    "X_test = X_test[~pd.isna(y_test)]\n",
    "y_test = y_test[~pd.isna(y_test)]"
   ]
  },
  {
   "cell_type": "code",
   "execution_count": 11,
   "id": "55cc376c",
   "metadata": {},
   "outputs": [],
   "source": [
    "\n",
    "from sklearn.preprocessing import LabelEncoder\n",
    "\n",
    "def encode_categorical(X_train, X_test):\n",
    "    label_encoders = {}\n",
    "    for col in X_train.select_dtypes(include=['object']).columns:\n",
    "        le = LabelEncoder()\n",
    "        X_train[col] = le.fit_transform(X_train[col])\n",
    "        X_test[col] = le.transform(X_test[col])\n",
    "        label_encoders[col] = le\n",
    "    return X_train, X_test, label_encoders\n",
    "\n",
    "# Apply encoding\n",
    "X_train, X_test, label_encoders = encode_categorical(X_train, X_test)\n"
   ]
  },
  {
   "cell_type": "code",
   "execution_count": 12,
   "metadata": {},
   "outputs": [
    {
     "data": {
      "text/plain": [
       "{'gender': LabelEncoder(),\n",
       " 'device_type': LabelEncoder(),\n",
       " 'ad_position': LabelEncoder(),\n",
       " 'browsing_history': LabelEncoder(),\n",
       " 'time_of_day': LabelEncoder()}"
      ]
     },
     "execution_count": 12,
     "metadata": {},
     "output_type": "execute_result"
    }
   ],
   "source": [
    "label_encoders"
   ]
  },
  {
   "cell_type": "code",
   "execution_count": 13,
   "metadata": {},
   "outputs": [],
   "source": [
    "# from sklearn.naive_bayes import GaussianNB\n",
    "# model = GaussianNB()\n",
    "# model.fit(X_train, y_train)"
   ]
  },
  {
   "cell_type": "code",
   "execution_count": 14,
   "metadata": {},
   "outputs": [],
   "source": [
    "# model.score(X_test, y_test)"
   ]
  },
  {
   "cell_type": "code",
   "execution_count": 15,
   "metadata": {},
   "outputs": [
    {
     "name": "stdout",
     "output_type": "stream",
     "text": [
      "0.817\n"
     ]
    }
   ],
   "source": [
    "from sklearn.ensemble import RandomForestClassifier\n",
    "rf = RandomForestClassifier(random_state=42)\n",
    "rf.fit(X_train, y_train)\n",
    "print(rf.score(X_test, y_test))"
   ]
  },
  {
   "cell_type": "code",
   "execution_count": 16,
   "metadata": {},
   "outputs": [],
   "source": [
    "# from sklearn.model_selection import cross_val_score\n",
    "# scores = cross_val_score(rf, X_train, y_train, cv=5)\n",
    "# print(scores.mean())"
   ]
  }
 ],
 "metadata": {
  "kernelspec": {
   "display_name": "base",
   "language": "python",
   "name": "python3"
  },
  "language_info": {
   "codemirror_mode": {
    "name": "ipython",
    "version": 3
   },
   "file_extension": ".py",
   "mimetype": "text/x-python",
   "name": "python",
   "nbconvert_exporter": "python",
   "pygments_lexer": "ipython3",
   "version": "3.12.2"
  }
 },
 "nbformat": 4,
 "nbformat_minor": 2
}
